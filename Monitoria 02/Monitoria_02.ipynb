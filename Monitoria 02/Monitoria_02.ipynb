{
  "nbformat": 4,
  "nbformat_minor": 0,
  "metadata": {
    "colab": {
      "name": "Monitoria 02.ipynb",
      "provenance": [],
      "collapsed_sections": [],
      "toc_visible": true
    },
    "kernelspec": {
      "name": "python3",
      "display_name": "Python 3"
    }
  },
  "cells": [
    {
      "cell_type": "markdown",
      "metadata": {
        "id": "nAE-oaVALMqf"
      },
      "source": [
        "#Monitoria 02: Aprofundando em Python\r\n",
        "\r\n",
        "Autores: Hugo Amorim - 2020.3 (haan2@ecomp.poli.br), Ana Catarina Fonseca - 2020.1\r\n",
        "\r\n",
        "Duvidas: acgfp@ecomp.poli.br\r\n",
        "\r\n",
        "Este trabalho foi criado para a disciplina de Inteligencia Artificial do curso de Engenharia da Computação da UPE, ministrada pelo Prof. Fernando Buarque. "
      ]
    },
    {
      "cell_type": "markdown",
      "metadata": {
        "id": "Bhw93lboq6BC"
      },
      "source": [
        "1. Bubble Sort\r\n",
        "2. Calculadora\r\n",
        "3. Problema do Caixeiro Viajante\r\n"
      ]
    },
    {
      "cell_type": "markdown",
      "metadata": {
        "id": "GQZwmao-ejPc"
      },
      "source": [
        "**Bubble Sort**\r\n",
        "\r\n",
        "É um algoritmo de ordenação. Os algoritmos de ordenação são clássicos na Computação. Você pode ler mais em [1](http://ww2.inf.ufg.br/~hebert/disc/aed1/AED1_04_ordenacao1.pdf) e [2](https://pt.wikipedia.org/wiki/Algoritmo_de_ordena%C3%A7%C3%A3o).\r\n",
        "\r\n",
        "[Visual Go](https://visualgo.net/bn/sorting)\r\n",
        "-- Contribuição de Felipe Bruce\r\n",
        "\r\n",
        "[Vídeo sobre Bubble Sort](https://youtu.be/6Gv8vg0kcHc) \r\n",
        "\r\n",
        "[Visualizando o Bubble Sort](https://www.youtube.com/watch?v=Cq7SMsQBEUw&ab_channel=TimoBingmann)\r\n",
        "\r\n",
        "[Visualizando algoritmos de ordenação](https://www.youtube.com/watch?v=kPRA0W1kECg&ab_channel=TimoBingmann)\r\n",
        "\r\n",
        "Sobre o [Bubble Sort](https://www.productplan.com/glossary/bubble-sort/): \r\n",
        "\r\n",
        "![bubble-sort-1024x683-2.png](data:image/png;base64,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)"
      ]
    },
    {
      "cell_type": "code",
      "metadata": {
        "id": "Rg4KhY7kfCLa",
        "colab": {
          "base_uri": "https://localhost:8080/"
        },
        "outputId": "9b0c1d9f-8139-4e8e-bdc8-9dcae7533974"
      },
      "source": [
        "# Troca inline de valores\r\n",
        "a = 1\r\n",
        "b = 2\r\n",
        "print(a, b)\r\n",
        "a, b = b, a\r\n",
        "print(a, b)"
      ],
      "execution_count": null,
      "outputs": [
        {
          "output_type": "stream",
          "text": [
            "1 2\n",
            "2 1\n"
          ],
          "name": "stdout"
        }
      ]
    },
    {
      "cell_type": "code",
      "metadata": {
        "colab": {
          "base_uri": "https://localhost:8080/"
        },
        "id": "4iYBLDRSpfmT",
        "outputId": "f64c632f-867f-456d-c9f5-1aaed52c2721"
      },
      "source": [
        "#Implementaçao do bubble sort\r\n",
        "\r\n",
        "def bubbleSort(lista): \r\n",
        "  tamanhoDaLista = len(lista)\r\n",
        "  ordenado = False\r\n",
        "  k = 0 #Não é usado no algoritmo\r\n",
        "  while not ordenado:\r\n",
        "    ordenado = True\r\n",
        "    k += 1\r\n",
        "    for i in range(tamanhoDaLista-1):\r\n",
        "      if lista[i] > lista[i+1]:\r\n",
        "        ordenado = False\r\n",
        "        lista[i], lista[i+1] = lista[i+1], lista[i]\r\n",
        "  print(k)\r\n",
        "  return lista\r\n",
        "\r\n",
        "lista_teste = [1, 5, 7, 2, 1, 1231, 6, 409328,3721, 1, 5, 8, 5]\r\n",
        "\r\n",
        "print(bubbleSort(lista_teste))"
      ],
      "execution_count": 1,
      "outputs": [
        {
          "output_type": "stream",
          "text": [
            "8\n",
            "[1, 1, 1, 2, 5, 5, 5, 6, 7, 8, 1231, 3721, 409328]\n"
          ],
          "name": "stdout"
        }
      ]
    },
    {
      "cell_type": "markdown",
      "metadata": {
        "id": "NR9Giyqmqc5q"
      },
      "source": [
        "**Calculadora**\r\n",
        "\r\n",
        "É um das aplicações mais básicas na maioria das linguagens de programação."
      ]
    },
    {
      "cell_type": "code",
      "metadata": {
        "id": "t4hji9RGqlW4",
        "colab": {
          "base_uri": "https://localhost:8080/"
        },
        "cellView": "form",
        "outputId": "6947ed74-66d4-4b95-b9c3-ed6f5d39ce5b"
      },
      "source": [
        "#@title Calculadora Simples\n",
        "numero1 = 60 #@param {type:\"number\"}\n",
        "operador = \"coseno(numero1)\" #@param [\"+\", \"-\", \"*\", \"/\", \"seno(numero1)\", \"coseno(numero1)\", \"^\"]\n",
        "numero2 = 0 #@param {type:\"number\"}\n",
        "\n",
        "import math\n",
        "\n",
        "def getResultado(numero1, operador, numero2):\n",
        "  resultado = 0\n",
        "  if operador == \"+\":\n",
        "    resultado = numero1 + numero2\n",
        "  elif operador == \"-\": #else if\n",
        "    resultado = numero1 - numero2\n",
        "  elif operador == \"*\":\n",
        "    resultado = numero1 * numero2\n",
        "  elif operador == \"/\":\n",
        "    if numero2 != 0:\n",
        "      resultado = numero1 / numero2\n",
        "    else:\n",
        "      resultado = \"Erro, divisão por zero\"\n",
        "  #Entrada em graus:\n",
        "  elif operador == \"seno(numero1)\":\n",
        "    resultado = math.sin(math.radians(numero1))\n",
        "  elif operador == \"coseno(numero1)\":\n",
        "    resultado = math.cos(math.radians(numero1))\n",
        "  elif operador == \"^\":\n",
        "    resultado = math.pow(numero1, numero2)\n",
        "  return resultado\n",
        "\n",
        "resultado = getResultado(numero1, operador, numero2)\n",
        "print(resultado)"
      ],
      "execution_count": 2,
      "outputs": [
        {
          "output_type": "stream",
          "text": [
            "0.5000000000000001\n"
          ],
          "name": "stdout"
        }
      ]
    },
    {
      "cell_type": "markdown",
      "metadata": {
        "id": "NyE0ozknK-Ni"
      },
      "source": [
        "**Caixeiro Viajante**\r\n",
        "\r\n",
        "Um comerciante deseja viajar por varias cidades comprando e vendendo produtos. Ele quer seguir uma rota que tenha a menor distancia possivel, mas sem passar pela mesma cidade 2 vezes. E apos passar por todas as cidades, ele precisa voltar a cidade em que ele iniciou seu percurso.\r\n",
        "\r\n",
        "Ou seja: dado N pontos como podemos passar por todos 1 vez e voltar ao ponto zero?\r\n",
        "\r\n",
        "Usando uma busca exaustiva a complexidade desse problema seria N! Ou seja se voce tivesse 100 cidades (9.332622e+157 possiveis rotas) e rodasse o algoritmo completo o universo iria acabar e o codigo nao teria terminado de rodar.\r\n",
        "\r\n",
        "[Traveling Salesman Problem](https://link.springer.com/referenceworkentry/10.1007/978-1-4419-1153-7_1068)\r\n",
        "\r\n",
        "[TSP - Wikipedia](https://pt.wikipedia.org/wiki/Problema_do_caixeiro-viajante)"
      ]
    },
    {
      "cell_type": "markdown",
      "metadata": {
        "id": "COIyEfLjqpAj"
      },
      "source": [
        "![djpoints.gif](data:image/gif;base64,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)"
      ]
    },
    {
      "cell_type": "markdown",
      "metadata": {
        "id": "ppt4jnQUSYQU"
      },
      "source": [
        "**Pandas**\n",
        "\n",
        "[28 comandos úteis de Pandas que talvez você não conheça\n",
        "](https://paulovasconcellos.com.br/28-comandos-%C3%BAteis-de-pandas-que-talvez-voc%C3%AA-n%C3%A3o-conhe%C3%A7a-6ab64beefa93)\n",
        "\n",
        "\n",
        "[Doc Pandas](https://pandas.pydata.org/docs/)"
      ]
    },
    {
      "cell_type": "markdown",
      "metadata": {
        "id": "FnlwkOBDe8fv"
      },
      "source": [
        "**Dados**\n",
        "\n",
        "Fonte: http://www.math.uwaterloo.ca/tsp/world/countries.html\n",
        "\n",
        "País: Djibouti - 38 Cities\n",
        "\n",
        "Melhor resultado possivel: 6656\n",
        "\n",
        "Numero de cidades: 38\n",
        "\n",
        "Numero de possiveis caminhos: 5.2302262e+44"
      ]
    },
    {
      "cell_type": "code",
      "metadata": {
        "colab": {
          "base_uri": "https://localhost:8080/",
          "height": 197
        },
        "id": "C_2PrUE4LAau",
        "outputId": "50019e79-3f85-4386-c204-a92a0154097a"
      },
      "source": [
        "import pandas as pd\r\n",
        "\r\n",
        "cidades = pd.read_csv('/content/cidades.csv')\r\n",
        "\r\n",
        "\r\n",
        "cidades.head()"
      ],
      "execution_count": 11,
      "outputs": [
        {
          "output_type": "execute_result",
          "data": {
            "text/html": [
              "<div>\n",
              "<style scoped>\n",
              "    .dataframe tbody tr th:only-of-type {\n",
              "        vertical-align: middle;\n",
              "    }\n",
              "\n",
              "    .dataframe tbody tr th {\n",
              "        vertical-align: top;\n",
              "    }\n",
              "\n",
              "    .dataframe thead th {\n",
              "        text-align: right;\n",
              "    }\n",
              "</style>\n",
              "<table border=\"1\" class=\"dataframe\">\n",
              "  <thead>\n",
              "    <tr style=\"text-align: right;\">\n",
              "      <th></th>\n",
              "      <th>x</th>\n",
              "      <th>y</th>\n",
              "    </tr>\n",
              "  </thead>\n",
              "  <tbody>\n",
              "    <tr>\n",
              "      <th>0</th>\n",
              "      <td>11003.6111</td>\n",
              "      <td>42102.5000</td>\n",
              "    </tr>\n",
              "    <tr>\n",
              "      <th>1</th>\n",
              "      <td>11108.6111</td>\n",
              "      <td>42373.8889</td>\n",
              "    </tr>\n",
              "    <tr>\n",
              "      <th>2</th>\n",
              "      <td>11133.3333</td>\n",
              "      <td>42885.8333</td>\n",
              "    </tr>\n",
              "    <tr>\n",
              "      <th>3</th>\n",
              "      <td>11155.8333</td>\n",
              "      <td>42712.5000</td>\n",
              "    </tr>\n",
              "    <tr>\n",
              "      <th>4</th>\n",
              "      <td>11183.3333</td>\n",
              "      <td>42933.3333</td>\n",
              "    </tr>\n",
              "  </tbody>\n",
              "</table>\n",
              "</div>"
            ],
            "text/plain": [
              "            x           y\n",
              "0  11003.6111  42102.5000\n",
              "1  11108.6111  42373.8889\n",
              "2  11133.3333  42885.8333\n",
              "3  11155.8333  42712.5000\n",
              "4  11183.3333  42933.3333"
            ]
          },
          "metadata": {
            "tags": []
          },
          "execution_count": 11
        }
      ]
    },
    {
      "cell_type": "code",
      "metadata": {
        "id": "iLS7KM-rpbpr",
        "colab": {
          "base_uri": "https://localhost:8080/"
        },
        "outputId": "7e9288c3-afd6-4911-9779-55646d932f69"
      },
      "source": [
        "print(cidades.count())\r\n",
        "print(cidades.count()[0])\r\n",
        "NUM_CIDADES = cidades.count()[0]"
      ],
      "execution_count": 12,
      "outputs": [
        {
          "output_type": "stream",
          "text": [
            " x    38\n",
            " y    38\n",
            "dtype: int64\n",
            "38\n"
          ],
          "name": "stdout"
        }
      ]
    },
    {
      "cell_type": "code",
      "metadata": {
        "id": "UTGDiBt4nSUq"
      },
      "source": [
        "class cidade:\r\n",
        "  def __init__(self, x, y):\r\n",
        "    self.posicao_x = x\r\n",
        "    self.posicao_y = y\r\n",
        "\r\n",
        "  def distancia(self, cidade_externa):\r\n",
        "    return  math.sqrt((self.posicao_x - cidade_externa.posicao_x)**2 + \r\n",
        "                      (self.posicao_y - cidade_externa.posicao_y)**2)"
      ],
      "execution_count": 13,
      "outputs": []
    },
    {
      "cell_type": "code",
      "metadata": {
        "colab": {
          "base_uri": "https://localhost:8080/"
        },
        "id": "rNTxyfUHOK0v",
        "outputId": "f940eba9-9ec9-46f4-cfb2-9ba89560675f"
      },
      "source": [
        "#Uma forma de acessar dados nos pandas dataframes\n",
        "#' x', ' y'\n",
        "cidades[' x'][0]"
      ],
      "execution_count": 7,
      "outputs": [
        {
          "output_type": "execute_result",
          "data": {
            "text/plain": [
              "11003.6111"
            ]
          },
          "metadata": {
            "tags": []
          },
          "execution_count": 7
        }
      ]
    },
    {
      "cell_type": "code",
      "metadata": {
        "id": "q5oLygvBNUSf"
      },
      "source": [
        "import random\n",
        "\n",
        "# Cria uma lista de instancias de cidade a partir de um dataframe\n",
        "def instanciar_cidades(cidades):\n",
        "  lista = [] #Lista de Instâncias\n",
        "  for i in range(0, NUM_CIDADES):\n",
        "    cidade_aux = cidade(cidades[' x'][i], cidades[' y'][i])\n",
        "    lista.append(cidade_aux)\n",
        "  return lista\n",
        "\n",
        "def gerar_solucao_aleatoria(lista_cidades):\n",
        "  lista_de_cidades = list(range(0, NUM_CIDADES))\n",
        "  lista_aleatoria = []\n",
        "  for i in range(0, NUM_CIDADES):\n",
        "    cidade = random.choice(lista_de_cidades) #index\n",
        "    lista_aleatoria.append(lista_cidades[cidade])\n",
        "    lista_de_cidades.remove(cidade)\n",
        "  return lista_aleatoria\n",
        "\n",
        "def fitness(possivel_solucao):\n",
        "  fitness = 0\n",
        "  for i in range(0, NUM_CIDADES): \n",
        "    if i < NUM_CIDADES - 1:\n",
        "      fitness += possivel_solucao[i].distancia(possivel_solucao[i+1])\n",
        "    else:\n",
        "      fitness += possivel_solucao[i].distancia(possivel_solucao[0]) #último pro primeiro\n",
        "  return fitness"
      ],
      "execution_count": 14,
      "outputs": []
    },
    {
      "cell_type": "code",
      "metadata": {
        "id": "OXeuPzPfPh8R",
        "colab": {
          "base_uri": "https://localhost:8080/"
        },
        "outputId": "aabb8234-59b0-469d-8fa3-a589639dfaac"
      },
      "source": [
        "#Lista de Objetos\n",
        "lista_cidades = instanciar_cidades(cidades)\n",
        "lista_cidades "
      ],
      "execution_count": 15,
      "outputs": [
        {
          "output_type": "execute_result",
          "data": {
            "text/plain": [
              "[<__main__.cidade at 0x7fe1a2900080>,\n",
              " <__main__.cidade at 0x7fe1a29000b8>,\n",
              " <__main__.cidade at 0x7fe1a2900128>,\n",
              " <__main__.cidade at 0x7fe1a2900160>,\n",
              " <__main__.cidade at 0x7fe1a2900198>,\n",
              " <__main__.cidade at 0x7fe1a29001d0>,\n",
              " <__main__.cidade at 0x7fe1a2900208>,\n",
              " <__main__.cidade at 0x7fe1a2900240>,\n",
              " <__main__.cidade at 0x7fe1a2900278>,\n",
              " <__main__.cidade at 0x7fe1a29002b0>,\n",
              " <__main__.cidade at 0x7fe1a29002e8>,\n",
              " <__main__.cidade at 0x7fe1a2900320>,\n",
              " <__main__.cidade at 0x7fe1a2900358>,\n",
              " <__main__.cidade at 0x7fe1a2900390>,\n",
              " <__main__.cidade at 0x7fe1a29003c8>,\n",
              " <__main__.cidade at 0x7fe1a2900400>,\n",
              " <__main__.cidade at 0x7fe1a2900438>,\n",
              " <__main__.cidade at 0x7fe1a2900470>,\n",
              " <__main__.cidade at 0x7fe1a29004a8>,\n",
              " <__main__.cidade at 0x7fe1a29004e0>,\n",
              " <__main__.cidade at 0x7fe1a2900518>,\n",
              " <__main__.cidade at 0x7fe1a2900550>,\n",
              " <__main__.cidade at 0x7fe1a2900588>,\n",
              " <__main__.cidade at 0x7fe1a29005c0>,\n",
              " <__main__.cidade at 0x7fe1a29005f8>,\n",
              " <__main__.cidade at 0x7fe1a2900630>,\n",
              " <__main__.cidade at 0x7fe1a2900668>,\n",
              " <__main__.cidade at 0x7fe1a29006a0>,\n",
              " <__main__.cidade at 0x7fe1a29006d8>,\n",
              " <__main__.cidade at 0x7fe1a28fe080>,\n",
              " <__main__.cidade at 0x7fe1a28fe0f0>,\n",
              " <__main__.cidade at 0x7fe1a28fe0b8>,\n",
              " <__main__.cidade at 0x7fe1a28fe128>,\n",
              " <__main__.cidade at 0x7fe1a28fe278>,\n",
              " <__main__.cidade at 0x7fe1a28fe6d8>,\n",
              " <__main__.cidade at 0x7fe1a28fe748>,\n",
              " <__main__.cidade at 0x7fe1a28fe898>,\n",
              " <__main__.cidade at 0x7fe1a28fe908>]"
            ]
          },
          "metadata": {
            "tags": []
          },
          "execution_count": 15
        }
      ]
    },
    {
      "cell_type": "code",
      "metadata": {
        "id": "18W5ZX8sWutE",
        "colab": {
          "base_uri": "https://localhost:8080/"
        },
        "outputId": "1c68acad-a414-4707-b3ac-9a503cbc1b61"
      },
      "source": [
        "#Lista de Objetos Aleatória\n",
        "solucao = gerar_solucao_aleatoria(lista_cidades)\n",
        "solucao "
      ],
      "execution_count": 16,
      "outputs": [
        {
          "output_type": "execute_result",
          "data": {
            "text/plain": [
              "[<__main__.cidade at 0x7fe1a2900208>,\n",
              " <__main__.cidade at 0x7fe1a28fe6d8>,\n",
              " <__main__.cidade at 0x7fe1a29004a8>,\n",
              " <__main__.cidade at 0x7fe1a29002b0>,\n",
              " <__main__.cidade at 0x7fe1a2900550>,\n",
              " <__main__.cidade at 0x7fe1a29006d8>,\n",
              " <__main__.cidade at 0x7fe1a2900198>,\n",
              " <__main__.cidade at 0x7fe1a28fe748>,\n",
              " <__main__.cidade at 0x7fe1a28fe128>,\n",
              " <__main__.cidade at 0x7fe1a2900320>,\n",
              " <__main__.cidade at 0x7fe1a29003c8>,\n",
              " <__main__.cidade at 0x7fe1a28fe0f0>,\n",
              " <__main__.cidade at 0x7fe1a2900390>,\n",
              " <__main__.cidade at 0x7fe1a28fe0b8>,\n",
              " <__main__.cidade at 0x7fe1a29005c0>,\n",
              " <__main__.cidade at 0x7fe1a2900400>,\n",
              " <__main__.cidade at 0x7fe1a2900080>,\n",
              " <__main__.cidade at 0x7fe1a28fe080>,\n",
              " <__main__.cidade at 0x7fe1a2900438>,\n",
              " <__main__.cidade at 0x7fe1a2900470>,\n",
              " <__main__.cidade at 0x7fe1a28fe278>,\n",
              " <__main__.cidade at 0x7fe1a29006a0>,\n",
              " <__main__.cidade at 0x7fe1a29002e8>,\n",
              " <__main__.cidade at 0x7fe1a28fe908>,\n",
              " <__main__.cidade at 0x7fe1a2900160>,\n",
              " <__main__.cidade at 0x7fe1a2900630>,\n",
              " <__main__.cidade at 0x7fe1a29005f8>,\n",
              " <__main__.cidade at 0x7fe1a2900128>,\n",
              " <__main__.cidade at 0x7fe1a2900278>,\n",
              " <__main__.cidade at 0x7fe1a29004e0>,\n",
              " <__main__.cidade at 0x7fe1a2900358>,\n",
              " <__main__.cidade at 0x7fe1a2900668>,\n",
              " <__main__.cidade at 0x7fe1a29001d0>,\n",
              " <__main__.cidade at 0x7fe1a2900588>,\n",
              " <__main__.cidade at 0x7fe1a2900240>,\n",
              " <__main__.cidade at 0x7fe1a2900518>,\n",
              " <__main__.cidade at 0x7fe1a28fe898>,\n",
              " <__main__.cidade at 0x7fe1a29000b8>]"
            ]
          },
          "metadata": {
            "tags": []
          },
          "execution_count": 16
        }
      ]
    },
    {
      "cell_type": "code",
      "metadata": {
        "colab": {
          "base_uri": "https://localhost:8080/"
        },
        "id": "eCfOztg7ZIFa",
        "outputId": "3fb495b2-6993-4d5c-c1cb-7b53d91cbca9"
      },
      "source": [
        "fitness(solucao)"
      ],
      "execution_count": 17,
      "outputs": [
        {
          "output_type": "execute_result",
          "data": {
            "text/plain": [
              "29726.367402527696"
            ]
          },
          "metadata": {
            "tags": []
          },
          "execution_count": 17
        }
      ]
    },
    {
      "cell_type": "code",
      "metadata": {
        "id": "eWsNPCiS5LpH",
        "colab": {
          "base_uri": "https://localhost:8080/",
          "height": 281
        },
        "outputId": "ab102c21-2896-4bad-91ce-44e92166001c"
      },
      "source": [
        "# --- Codigo para visualização ---\r\n",
        "import matplotlib.pyplot as plt\r\n",
        "# --- Codigo para demonstração visual utilizando matplotlib ---\r\n",
        "\r\n",
        "# Caixeiro Viajante\r\n",
        "def gerar_grafico(solucao):\r\n",
        "  x = []\r\n",
        "  y = []\r\n",
        "  for i in range(0, NUM_CIDADES):\r\n",
        "    x.append(solucao[i].posicao_x)\r\n",
        "    y.append(solucao[i].posicao_y)\r\n",
        "    plt.plot(solucao[i].posicao_x, \r\n",
        "             solucao[i].posicao_y, 'ro')\r\n",
        "  #ro = red cicle markers\r\n",
        "\r\n",
        "  x.append(solucao[0].posicao_x)\r\n",
        "  y.append(solucao[0].posicao_y)\r\n",
        "  plt.plot(x, y)\r\n",
        "  plt.title('Solução aleatória inicial')\r\n",
        "  plt.show()\r\n",
        "# --- Fim do codigo para demonstração visual utilizando matplotlib ---\r\n",
        "\r\n",
        "gerar_grafico(solucao)"
      ],
      "execution_count": 21,
      "outputs": [
        {
          "output_type": "display_data",
          "data": {
            "image/png": "[encoded data removed]",
            "text/plain": [
              "<Figure size 432x288 with 1 Axes>"
            ]
          },
          "metadata": {
            "tags": [],
            "needs_background": "light"
          }
        }
      ]
    }
  ]
}