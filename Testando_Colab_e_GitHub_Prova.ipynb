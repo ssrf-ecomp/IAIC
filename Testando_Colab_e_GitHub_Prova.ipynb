{
  "nbformat": 4,
  "nbformat_minor": 0,
  "metadata": {
    "kernelspec": {
      "display_name": "Python 3",
      "language": "python",
      "name": "python3"
    },
    "language_info": {
      "codemirror_mode": {
        "name": "ipython",
        "version": 3
      },
      "file_extension": ".py",
      "mimetype": "text/x-python",
      "name": "python",
      "nbconvert_exporter": "python",
      "pygments_lexer": "ipython3",
      "version": "3.7.6"
    },
    "colab": {
      "name": "Testando Colab e GitHub Prova.ipynb",
      "provenance": [],
      "collapsed_sections": [],
      "include_colab_link": true
    }
  },
  "cells": [
    {
      "cell_type": "markdown",
      "metadata": {
        "id": "view-in-github",
        "colab_type": "text"
      },
      "source": [
        "<a href=\"https://colab.research.google.com/github/ssrf-ecomp/IAIC/blob/master/Testando_Colab_e_GitHub_Prova.ipynb\" target=\"_parent\"><img src=\"https://colab.research.google.com/assets/colab-badge.svg\" alt=\"Open In Colab\"/></a>"
      ]
    },
    {
      "cell_type": "markdown",
      "metadata": {
        "id": "FD7Bxy7xRbMC"
      },
      "source": [
        "**Exercício 1:** Faça um Programa que peça um número inteiro e determine se ele é par ou ímpar.."
      ]
    },
    {
      "cell_type": "code",
      "metadata": {
        "id": "8nUzoJCEqUjN"
      },
      "source": [
        ""
      ],
      "execution_count": 10,
      "outputs": []
    },
    {
      "cell_type": "markdown",
      "metadata": {
        "id": "PQ7JxuYscdqA"
      },
      "source": [
        "**Exercício 2:** Faça um programa que receba um inteiro do usuário e diz se esse número é múltiplo de 3 ou não."
      ]
    },
    {
      "cell_type": "code",
      "metadata": {
        "id": "GpWftijkcuW8"
      },
      "source": [
        ""
      ],
      "execution_count": 10,
      "outputs": []
    },
    {
      "cell_type": "markdown",
      "metadata": {
        "id": "sZkQm_Wlde2H"
      },
      "source": [
        "**Exercício 3:** Crie um programa em Python que pede um número inteiro ao usuário e calcule seu fatorial."
      ]
    },
    {
      "cell_type": "code",
      "metadata": {
        "id": "eqzu3j3_diew"
      },
      "source": [
        ""
      ],
      "execution_count": 10,
      "outputs": []
    },
    {
      "cell_type": "markdown",
      "metadata": {
        "id": "IuW8SM9ggJF0"
      },
      "source": [
        "**Exercício 4:** Faça um script em Python que exiba todos os possíveis palpites da Mega-Sena. Dados:\r\n",
        "1.   Cada palpite possui 6 dezenas\r\n",
        "2.   As dezenas variam de 1 até 60\r\n",
        "3.   Não pode repetir dezena\r\n",
        "\r\n",
        "Ao invés de exibir todos, você pode usar um contador, para contar o número de possíveis palpites."
      ]
    },
    {
      "cell_type": "code",
      "metadata": {
        "id": "gkfh5dDFc3E2"
      },
      "source": [
        ""
      ],
      "execution_count": 10,
      "outputs": []
    },
    {
      "cell_type": "markdown",
      "metadata": {
        "id": "xxAoZOLAkErh"
      },
      "source": [
        "**Exercício 5:** Ao escrever compare o número que o usuário digitou com o número que está lá armazenado. Só escreva no arquivo se o usuário digitar um número MAIOR do que aquele que está lá.\r\n",
        "\r\n",
        "O script vai funcionar assim:\r\n",
        "1.   Aparece um menu de opções (sair, ler ou escrever)\r\n",
        "2.   Se digitar ler, lê o conteúdo do arquivo;\r\n",
        "3.   Se optar por escrever, escreve algo no arquivo;\r\n",
        "4.   Isso em um looping indefinido, acaba quando o usuário quiser."
      ]
    },
    {
      "cell_type": "code",
      "metadata": {
        "id": "xsxvWvXukFLi"
      },
      "source": [
        ""
      ],
      "execution_count": 10,
      "outputs": []
    },
    {
      "cell_type": "markdown",
      "metadata": {
        "id": "JxXxEJXhnXt3"
      },
      "source": [
        "**Exercício 6**: A partir das coordenadas x,y, inteligar os pontos da matriz abaixo\r\n",
        "\r\n",
        "\r\n",
        "> x = [3.5, 4, 3, 4.5, 5, 5.5, 7, 6, 6.5, 5, 3.5]\r\n",
        "\r\n",
        "> y = [0, 4.5, 8, 8.5, 12, 8.5, 8, 4.5, 0, 3, 0]"
      ]
    },
    {
      "cell_type": "code",
      "metadata": {
        "id": "KOA6mrKCkG2-"
      },
      "source": [
        ""
      ],
      "execution_count": 10,
      "outputs": []
    },
    {
      "cell_type": "code",
      "metadata": {
        "id": "oylHOiyzT262"
      },
      "source": [
        ""
      ],
      "execution_count": 10,
      "outputs": []
    }
  ]
}