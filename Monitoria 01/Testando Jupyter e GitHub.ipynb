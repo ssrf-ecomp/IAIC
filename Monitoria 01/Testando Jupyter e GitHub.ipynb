{
 "cells": [
  {
   "cell_type": "markdown",
   "metadata": {},
   "source": [
    "# Um um um um um\n",
    "## Dois\n",
    "### Três\n",
    "#### Quatro\n",
    "##### Cinco\n",
    "###### Seis\n",
    "\n",
    "**Recomendo em negrito** a **utilização em negrito e _itálico negrito_** do Google Colaboratory, plataforma de python notebooks online da Google, que não requer instalação, apenas conexão com internet, uma conta Google e um navegador.\n",
    "\n",
    "_Vocês também_ podem instalar o Python no ambiente de vocês, mas esta parte não será coberta nesta aula.\n"
   ]
  },
  {
   "cell_type": "markdown",
   "metadata": {},
   "source": [
    "# aaaaaaaaaaaaaaaaaaa\n",
    "In the words of Abraham Lincoln:\n",
    "\n",
    "> Pardon my French"
   ]
  },
  {
   "cell_type": "code",
   "execution_count": 11,
   "metadata": {},
   "outputs": [
    {
     "name": "stdout",
     "output_type": "stream",
     "text": [
      "AAAAAAAAAAAAAAAAAAAAAAAAAAAAAAAAAAAAAAA\n"
     ]
    }
   ],
   "source": [
    "import random as rd\n",
    "import math\n",
    "print (\"AAAAAAAAAAAAAAAAAAAAAAAAAAAAAAAAAAAAAAA\")"
   ]
  },
  {
   "cell_type": "markdown",
   "metadata": {},
   "source": [
    "Definições de Variaveis\n",
    "\n",
    "Python é uma linguagem de tipagem forte e dinâmica. O que quer dizer que ao definir um valor para uma variável, a linguagem infere um tipo.\n",
    "\n",
    "Você pode alterar o tipo de uma variável durante a execução do código e o Python não lançará nenhuma Exception.\n",
    "\n",
    "Linguagens de tipagem fraca: permitem que você faça algumas operações, sem a necessidade da realização do cast"
   ]
  },
  {
   "cell_type": "code",
   "execution_count": 12,
   "metadata": {},
   "outputs": [
    {
     "name": "stdout",
     "output_type": "stream",
     "text": [
      "<class 'str'>\n",
      "<class 'int'>\n",
      "<class 'float'>\n",
      "<class 'int'>\n"
     ]
    }
   ],
   "source": [
    "nome = 'Hugo' #Uma string\n",
    "idade = 10  #Um int\n",
    "gold = 23.1 #Um float\n",
    "\n",
    "# print(str(type(nome)))\n",
    "print(type(nome))\n",
    "print(str(type(idade)))\n",
    "print(str(type(gold)))\n",
    "\n",
    "#Troca valor de nome para um inteiro, e a linguagem infere esse tipo.\n",
    "nome = 12\n",
    "\n",
    "print(str(type(nome)))\n",
    "\n",
    "# No Python o usuario não precisa dizer o tipo de variavel, a ferramenta ja faz \n",
    "# essa inferencia ela mesma. Isso deixa o codigo mais limpo, no entanto aumenta \n",
    "# a possibilidade de erros humanos, sempre tome cuidado para nao tratar uma \n",
    "# string como um numero ou algo semelhante"
   ]
  },
  {
   "cell_type": "code",
   "execution_count": 13,
   "metadata": {},
   "outputs": [
    {
     "name": "stdout",
     "output_type": "stream",
     "text": [
      "1112\n"
     ]
    }
   ],
   "source": [
    "nome = '112'\n",
    "# print(1 + nome) #Erro\n",
    "# print(1 + int(nome)) #Uso do Cast\n",
    "print(str(1) + nome) #Concatenação"
   ]
  },
  {
   "cell_type": "code",
   "execution_count": null,
   "metadata": {},
   "outputs": [],
   "source": []
  }
 ],
 "metadata": {
  "kernelspec": {
   "display_name": "Python 3",
   "language": "python",
   "name": "python3"
  },
  "language_info": {
   "codemirror_mode": {
    "name": "ipython",
    "version": 3
   },
   "file_extension": ".py",
   "mimetype": "text/x-python",
   "name": "python",
   "nbconvert_exporter": "python",
   "pygments_lexer": "ipython3",
   "version": "3.7.6"
  }
 },
 "nbformat": 4,
 "nbformat_minor": 4
}
