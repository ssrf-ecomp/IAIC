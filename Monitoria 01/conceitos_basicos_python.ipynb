{
  "nbformat": 4,
  "nbformat_minor": 0,
  "metadata": {
    "colab": {
      "name": "conceitos_basicos_python.ipynb",
      "provenance": [],
      "collapsed_sections": []
    },
    "kernelspec": {
      "name": "python3",
      "display_name": "Python 3"
    }
  },
  "cells": [
    {
      "cell_type": "markdown",
      "metadata": {
        "id": "CpkIIZUazeZw"
      },
      "source": [
        "#Resumo e exemplos de Python\r\n",
        "Autores:  Hugo Amorim - 2020.3 (haan2@ecomp.poli.br), \r\n",
        "Ana Catarina Fonseca - 2020.1\r\n",
        "\r\n",
        "\r\n",
        "Duvidas: acgfp@ecomp.poli.br\r\n",
        "\r\n",
        "Este trabalho foi criado para a disciplina de Inteligencia Artificial do curso\r\n",
        "de Engenharia da Computação da UPE, ministrada pelo Prof. Fernando Buarque.\r\n",
        "E tem como objetivo ensinar e exemplificar o uso basico do python e de algumas\r\n",
        "bibliotecas para serem utilizadas durante a disciplina.\r\n",
        "\r\n",
        "Foi inicialmente elaborado pelo monitor do período 2020.3 (Hugo Amorim) e refatorado no semestre 2020.1 (em 2021) por Ana Catarina.\r\n",
        "\r\n",
        " **Referências Online**\r\n",
        "\r\n",
        "[Curso de Computação Científica com Python](https://www.freecodecamp.org/learn)\r\n",
        "\r\n",
        "[W3 Schools](https://www.w3schools.com/python/)\r\n",
        "\r\n",
        "[Documentação Oficial](https://docs.python.org/3/)\r\n",
        "\r\n",
        "[Curso Rápido de Python](https://www.youtube.com/watch?v=oUrBHiT-lzo&ab_channel=Cod3rCursos)\r\n",
        "\r\n",
        "[Intro. à C.C. com Python](https://www.youtube.com/playlist?list=PLcoJJSvnDgcKpOi_UeneTNTIVOigRQwcn)\r\n",
        "\r\n",
        "[Python Cheatsheet](https://www.pythoncheatsheet.org/)\r\n",
        "\r\n",
        "[Curso da Microsoft](https://docs.microsoft.com/pt-br/learn/modules/intro-to-python/)\r\n",
        "\r\n",
        "[Curso do SoloLearn](https://www.sololearn.com/learning/1073)"
      ]
    },
    {
      "cell_type": "markdown",
      "metadata": {
        "id": "y-E_M6BTDuIE"
      },
      "source": [
        "**Ambiente**\r\n",
        "\r\n",
        "Recomendo a utilização do Google Colaboratory, plataforma de python notebooks online da Google, que não requer instalação, apenas conexão com internet, uma conta Google e um navegador.\r\n",
        "\r\n",
        "Vocês também podem instalar o Python no ambiente de vocês, mas esta parte não será coberta nesta aula.\r\n"
      ]
    },
    {
      "cell_type": "markdown",
      "metadata": {
        "id": "bwgcxruDppeh"
      },
      "source": [
        "**Importando bibliotecas**\n",
        "\n",
        "\n",
        "\n"
      ]
    },
    {
      "cell_type": "code",
      "metadata": {
        "id": "k20nhXo4pmnr"
      },
      "source": [
        "import random as rd\n",
        "import math"
      ],
      "execution_count": 22,
      "outputs": []
    },
    {
      "cell_type": "markdown",
      "metadata": {
        "id": "V5ToLy9cp8BU"
      },
      "source": [
        "**Definições de Variaveis**\n",
        "\n",
        "Python é uma linguagem de tipagem forte e dinâmica. O que quer dizer que ao definir um valor para uma variável, a linguagem infere um tipo. \n",
        "\n",
        "Você pode alterar o tipo de uma variável durante a execução do código e o Python não lançará nenhuma Exception.\n",
        "\n",
        "Linguagens de tipagem fraca: permitem que você faça algumas operações, sem a necessidade da realização do cast\n",
        "\n"
      ]
    },
    {
      "cell_type": "code",
      "metadata": {
        "id": "nUCUaffcp_Pl",
        "colab": {
          "base_uri": "https://localhost:8080/"
        },
        "outputId": "fc06b784-8552-4d3e-d156-21a4dd4a44fb"
      },
      "source": [
        "nome = 'Hugo' #Uma string\n",
        "idade = 10  #Um int\n",
        "gold = 23.1 #Um float\n",
        "\n",
        "# print(str(type(nome)))\n",
        "print(type(nome))\n",
        "print(str(type(idade)))\n",
        "print(str(type(gold)))\n",
        "\n",
        "#Troca valor de nome para um inteiro, e a linguagem infere esse tipo.\n",
        "nome = 12\n",
        "\n",
        "print(str(type(nome)))\n",
        "\n",
        "# No Python o usuario não precisa dizer o tipo de variavel, a ferramenta ja faz \n",
        "# essa inferencia ela mesma. Isso deixa o codigo mais limpo, no entanto aumenta \n",
        "# a possibilidade de erros humanos, sempre tome cuidado para nao tratar uma \n",
        "# string como um numero ou algo semelhante"
      ],
      "execution_count": 26,
      "outputs": [
        {
          "output_type": "stream",
          "text": [
            "<class 'str'>\n",
            "<class 'int'>\n",
            "<class 'float'>\n",
            "<class 'int'>\n"
          ],
          "name": "stdout"
        }
      ]
    },
    {
      "cell_type": "code",
      "metadata": {
        "id": "GYYjo-3xuDHl",
        "colab": {
          "base_uri": "https://localhost:8080/"
        },
        "outputId": "76c03230-d714-4a23-93cd-d83b93dc829f"
      },
      "source": [
        "nome = '11'\n",
        "# print(1 + nome) #Erro\n",
        "# print(1 + int(nome)) #Uso do Cast\n",
        "print(str(1) + nome) #Concatenação"
      ],
      "execution_count": 25,
      "outputs": [
        {
          "output_type": "stream",
          "text": [
            "111\n"
          ],
          "name": "stdout"
        }
      ]
    },
    {
      "cell_type": "markdown",
      "metadata": {
        "id": "FR2pxj-Fuc_h"
      },
      "source": [
        "**Arrays e Listas**"
      ]
    },
    {
      "cell_type": "code",
      "metadata": {
        "id": "-juVsZs6uLX0",
        "colab": {
          "base_uri": "https://localhost:8080/"
        },
        "outputId": "cd7ed46c-633d-4cd8-89b1-a86b75aa1f20"
      },
      "source": [
        "comidas = ['sushi', 'pizza', 'risotto']\n",
        "lista_de_listas = [[1,2,3], [2,3,4], [3,4,5]]\n",
        "lista_de_zeros = [0] * 10\n",
        "validacao = 50 >= idade\n",
        "\n",
        "print(lista_de_zeros)\n",
        "print(validacao)"
      ],
      "execution_count": 28,
      "outputs": [
        {
          "output_type": "stream",
          "text": [
            "[0, 0, 0, 0, 0, 0, 0, 0, 0, 0]\n",
            "True\n"
          ],
          "name": "stdout"
        }
      ]
    },
    {
      "cell_type": "markdown",
      "metadata": {
        "id": "knIr-oEewk57"
      },
      "source": [
        "**Operadores de Comparação**\n",
        "\n",
        "A == B -> verifica se A e B são iguais\n",
        "\n",
        "A != B -> verifica se A e B são diferentes\n",
        "\n",
        "A < B  -> verifica se A é menor que B\n",
        "\n",
        "A > B  -> verifica se A é maior que B\n",
        "\n",
        "A <= B -> verifica se A é menor ou igual a B\n",
        "\n",
        "A >= B -> verifica se A é maior ou igual a B\n",
        "\n",
        "+ Operações:\n",
        "\n",
        "soma:             +\n",
        "\n",
        "subtração:        -\n",
        "\n",
        "multiplicação:    *\n",
        "\n",
        "divisão:          /\n",
        "\n",
        "resto de divisão: %\n",
        "\n",
        "exponenciação:    **\n",
        "\n",
        "+ Funções Úteis:\n",
        "\n",
        "len( x ) -> retorna o tamanho de uma lista x\n",
        "\n",
        "str( y ) -> retorna a variavel y transformada numa string\n",
        "\n",
        "float( z ) -> retorna a variavel z na forma de float\n",
        "\n",
        "int( z ) -> retorna a variavel z na forma de int\n"
      ]
    },
    {
      "cell_type": "markdown",
      "metadata": {
        "id": "TUzHgazl91Fh"
      },
      "source": [
        "**Comandos Condicionais**\n",
        "\n",
        "and -> ver se multiplas verificações são validas\n",
        "\n",
        "or -> ver se alguma verificação é valida\n",
        "\n",
        "not -> ver se a verificação é invalida"
      ]
    },
    {
      "cell_type": "code",
      "metadata": {
        "id": "EX6aESXA_V-r",
        "colab": {
          "base_uri": "https://localhost:8080/"
        },
        "outputId": "67fe02b2-22ed-4f95-ef08-2ab6a0cf9ea9"
      },
      "source": [
        "if True:\n",
        "  print(True)\n",
        "\n",
        "if validacao:\n",
        "  print('Voce tem menos de 50 anos')\n",
        "else:\n",
        "  print('Voce tem mais de 50 anos')\n",
        "\n",
        "idade = 65\n",
        "if idade < 40:\n",
        "  print('Voce tem menos de 40 anos')\n",
        "elif idade > 60 and idade < 70:\n",
        "  print('Voce tem mais de 60 e menos de 70 anos')\n",
        "\n"
      ],
      "execution_count": 6,
      "outputs": [
        {
          "output_type": "stream",
          "text": [
            "True\n",
            "Voce tem menos de 50 anos\n",
            "Voce tem mais de 60 e menos de 70 anos\n"
          ],
          "name": "stdout"
        }
      ]
    },
    {
      "cell_type": "markdown",
      "metadata": {
        "id": "vNWiXWQD-WBy"
      },
      "source": [
        "**Comandos de Repetição**\n",
        "\n",
        "for, while"
      ]
    },
    {
      "cell_type": "code",
      "metadata": {
        "id": "xSF3yHWD-aeH",
        "colab": {
          "base_uri": "https://localhost:8080/"
        },
        "outputId": "1fe33d08-3b3c-4ef0-fd55-6aba0bb9175a"
      },
      "source": [
        "for i in range(4, 8): \n",
        "  print(i)\n",
        "  if i == 6:\n",
        "    break\n",
        "\n",
        "for i in comidas:\n",
        "  print(i)\n",
        "\n",
        "i = 0\n",
        "while i < 5:\n",
        "  print(i)\n",
        "  i += 1"
      ],
      "execution_count": 29,
      "outputs": [
        {
          "output_type": "stream",
          "text": [
            "4\n",
            "5\n",
            "6\n",
            "sushi\n",
            "pizza\n",
            "risotto\n",
            "0\n",
            "1\n",
            "2\n",
            "3\n",
            "4\n"
          ],
          "name": "stdout"
        }
      ]
    },
    {
      "cell_type": "markdown",
      "metadata": {
        "id": "cO_bzeJAZobw"
      },
      "source": [
        "**Dicionários**\n",
        "\n",
        "Tipo de mapeamento nativo do python. É da forma { chave: valor }"
      ]
    },
    {
      "cell_type": "code",
      "metadata": {
        "id": "GuKlEwYmZn3B",
        "colab": {
          "base_uri": "https://localhost:8080/"
        },
        "outputId": "93f1c86b-e6d1-489d-eaa1-c5369eed3d47"
      },
      "source": [
        "#Formas de criar dicionários\n",
        "#Forma 1\n",
        "#Chaves devem ter o mesmo tipo, mas valores podem ser de tipos diferentes\n",
        "dicionario_frutas = {\n",
        "    1: \"banana\",\n",
        "    2: 2,\n",
        "    3: \"melancia\",\n",
        "    4: \"pera\"\n",
        "}\n",
        "\n",
        "#Forma 2\n",
        "dicionario_animais = {}\n",
        "dicionario_animais[1] = \"javali\"\n",
        "dicionario_animais[2] = \"ornitorrinco\"\n",
        "dicionario_animais[3] = \"orangotango\"\n",
        "\n",
        "print(dicionario_animais[1])\n",
        "\n",
        "#Podemos atribuir valores aos itens do dicionário\n",
        "print(dicionario_frutas[1])\n",
        "dicionario_frutas[1] = \"melao\"\n",
        "print(dicionario_frutas[1])\n",
        "\n",
        "#Podemos percorrer o dicionario:\n",
        "for i in dicionario_frutas:\n",
        "  print (str(i) + \" \" + str(dicionario_frutas[i]))\n",
        "\n",
        "#Tem também algumas funções úteis:\n",
        "# dicionario_frutas.items()  \n",
        "# dicionario_frutas.keys()   \n",
        "# dicionario_frutas.values()"
      ],
      "execution_count": 31,
      "outputs": [
        {
          "output_type": "stream",
          "text": [
            "javali\n",
            "banana\n",
            "melao\n",
            "1 melao\n",
            "2 2\n",
            "3 melancia\n",
            "4 pera\n"
          ],
          "name": "stdout"
        },
        {
          "output_type": "execute_result",
          "data": {
            "text/plain": [
              "dict_items([(1, 'melao'), (2, 2), (3, 'melancia'), (4, 'pera')])"
            ]
          },
          "metadata": {
            "tags": []
          },
          "execution_count": 31
        }
      ]
    },
    {
      "cell_type": "markdown",
      "metadata": {
        "id": "kd7TVN8lcnWh"
      },
      "source": [
        "**Listas**\n",
        "\n",
        "são mutáveis e podem ter objetos de tipos variados"
      ]
    },
    {
      "cell_type": "code",
      "metadata": {
        "id": "s2ekG2CgcwXN",
        "colab": {
          "base_uri": "https://localhost:8080/"
        },
        "outputId": "af178e19-8ede-4c04-ee7a-4962c7889d86"
      },
      "source": [
        "#Listas se declaram com []\n",
        "\n",
        "algoritmos = ['Algoritmo Genético', 'FSS']\n",
        "print(\"Tipo: \" + str(type(algoritmos))) \n",
        "print(algoritmos)\n",
        "\n",
        "#Atribuindo valores a itens da lista:\n",
        "algoritmos[1] = 'PSO'\n",
        "print(algoritmos)\n",
        "\n",
        "#Funções Úteis:\n",
        "algoritmos.append('FSS')\n",
        "print(algoritmos)\n",
        "\n",
        "#Insere ACO na posição 1\n",
        "algoritmos.insert(1, 'ACO')\n",
        "print(algoritmos)\n",
        "\n",
        "algoritmos.remove('FSS')\n",
        "print(algoritmos)\n",
        "\n",
        "#Remove pelo indice\n",
        "algoritmos.pop(0)\n",
        "print(algoritmos)\n",
        "\n",
        "#Podem ter tipos mistos:\n",
        "\n",
        "player = [\"Ana Catarina\", 1, 1.1]\n",
        "print(player)"
      ],
      "execution_count": 9,
      "outputs": [
        {
          "output_type": "stream",
          "text": [
            "Tipo: <class 'list'>\n",
            "['Algoritmo Genético', 'FSS']\n",
            "['Algoritmo Genético', 'PSO']\n",
            "['Algoritmo Genético', 'PSO', 'FSS']\n",
            "['Algoritmo Genético', 'ACO', 'PSO', 'FSS']\n",
            "['Algoritmo Genético', 'ACO', 'PSO']\n",
            "['ACO', 'PSO']\n",
            "['Ana Catarina', 1, 1.1]\n"
          ],
          "name": "stdout"
        }
      ]
    },
    {
      "cell_type": "markdown",
      "metadata": {
        "id": "wHHclDWEgwgU"
      },
      "source": [
        "**Tuplas**\n",
        "\n",
        "tuplas não são mutáveis"
      ]
    },
    {
      "cell_type": "code",
      "metadata": {
        "id": "AmiRwm0ffKVf",
        "colab": {
          "base_uri": "https://localhost:8080/"
        },
        "outputId": "94e28ad5-1efd-4495-a012-b0c509bc5108"
      },
      "source": [
        "#Tuplas se declaram com ()\n",
        "\n",
        "pessoa = ('maria', 22)\n",
        "print(type(pessoa))\n",
        "print(pessoa)\n",
        "\n",
        "animais = ('cachorro', 'gato', 'hamster')\n",
        "print(type(animais))\n",
        "print(animais)\n",
        "\n",
        "#acessando valores específicos - pelo indice:\n",
        "print(\"Animal preferido: \" + animais[0])\n",
        "\n",
        "#Vai gerar um erro:\n",
        "# animais[0] = 'minhoca'\n",
        "\n",
        "#Tuplas com um único item\n",
        "\n",
        "obj1 = ('minhoca')\n",
        "obj2 = ('minhoca',)\n",
        "\n",
        "print(type(obj1)) \n",
        "print(type(obj2))"
      ],
      "execution_count": 33,
      "outputs": [
        {
          "output_type": "stream",
          "text": [
            "<class 'tuple'>\n",
            "('maria', 22)\n",
            "<class 'tuple'>\n",
            "('cachorro', 'gato', 'hamster')\n",
            "Animal preferido: cachorro\n",
            "<class 'str'>\n",
            "<class 'tuple'>\n"
          ],
          "name": "stdout"
        }
      ]
    },
    {
      "cell_type": "markdown",
      "metadata": {
        "id": "pcoYJRIE-xHH"
      },
      "source": [
        "**Funções**\n",
        "\n",
        "Definição e chamada"
      ]
    },
    {
      "cell_type": "code",
      "metadata": {
        "id": "i3JYtfVZ8H8h",
        "colab": {
          "base_uri": "https://localhost:8080/"
        },
        "outputId": "4e921ece-f1e3-4f1b-ecbc-f6ed6e5fe08d"
      },
      "source": [
        "#---Definindo funções\n",
        "#Tem que lembrar da identação\n",
        "def numero_aleatorio():\n",
        "  print(rd.random())\n",
        "  # if True:\n",
        "  #   print('true')\n",
        "\n",
        "def ano_de_nascimento(idade_funcao, ano_atual):\n",
        "  print(idade_funcao)\n",
        "  return ano_atual - idade_funcao\n",
        "\n",
        "#---Chamando Funções\n",
        "numero_aleatorio()\n",
        "ano_de_nascimento(22, 2021)"
      ],
      "execution_count": 11,
      "outputs": [
        {
          "output_type": "stream",
          "text": [
            "0.4659027622075964\n",
            "22\n"
          ],
          "name": "stdout"
        },
        {
          "output_type": "execute_result",
          "data": {
            "text/plain": [
              "1999"
            ]
          },
          "metadata": {
            "tags": []
          },
          "execution_count": 11
        }
      ]
    },
    {
      "cell_type": "markdown",
      "metadata": {
        "id": "-jLuW3IR-7Y3"
      },
      "source": [
        "**Classes**\n",
        "\n",
        "Definição, funções de classes, instanciação"
      ]
    },
    {
      "cell_type": "code",
      "metadata": {
        "id": "lLzVUszM1OMN",
        "colab": {
          "base_uri": "https://localhost:8080/"
        },
        "outputId": "992c279d-bb6b-497e-8635-e9ba1437e119"
      },
      "source": [
        "class NomeClasse:\n",
        "# Abaixo temos o construtor, onde definimos valores iniciais para a classe\n",
        "  def __init__(self, valor_de_referencia, outro_valor):\n",
        "    self.variavel_1 = [0] * valor_de_referencia\n",
        "    self.variavel_2 = outro_valor\n",
        "\n",
        "# Na linha abaixo temos uma funçao especifica dessa classe\n",
        "  def funcao_da_classe(self, variavel_qualquer):\n",
        "    for i in self.variavel_1:\n",
        "      print(i)\n",
        "      i += variavel_qualquer\n",
        "      if i == 3: # codigo que nunca vai acontecer\n",
        "        break\n",
        "    else:\n",
        "      print(self.variavel_1)\n",
        "\n",
        "    for index, i in enumerate(self.variavel_1): #Itera pelos itens da lista com índices, e nao com os proprios itens da lista\n",
        "      self.variavel_1[index] += variavel_qualquer\n",
        "    print(self.variavel_1)\n",
        "\n",
        "#--- utilizando a classe ---\n",
        "objeto_do_tipo_classe = NomeClasse(10, 5) #Instanciar\n",
        "objeto_do_tipo_classe.funcao_da_classe(5)\n",
        "print(objeto_do_tipo_classe.variavel_1)"
      ],
      "execution_count": 34,
      "outputs": [
        {
          "output_type": "stream",
          "text": [
            "0\n",
            "0\n",
            "0\n",
            "0\n",
            "0\n",
            "0\n",
            "0\n",
            "0\n",
            "0\n",
            "0\n",
            "[0, 0, 0, 0, 0, 0, 0, 0, 0, 0]\n",
            "[5, 5, 5, 5, 5, 5, 5, 5, 5, 5]\n",
            "[5, 5, 5, 5, 5, 5, 5, 5, 5, 5]\n"
          ],
          "name": "stdout"
        }
      ]
    },
    {
      "cell_type": "code",
      "metadata": {
        "colab": {
          "base_uri": "https://localhost:8080/"
        },
        "id": "JvYRLGz448Ud",
        "outputId": "e256e3ce-0d74-4620-975c-e8ea5eeb1892"
      },
      "source": [
        "#Enumerate\n",
        "lista = [0,0,0]\n",
        "\n",
        "for index, i in enumerate(lista):\n",
        "  print(i, index)"
      ],
      "execution_count": 36,
      "outputs": [
        {
          "output_type": "stream",
          "text": [
            "0 0\n",
            "0 1\n",
            "0 2\n"
          ],
          "name": "stdout"
        }
      ]
    },
    {
      "cell_type": "markdown",
      "metadata": {
        "id": "noske9CqB7Ra"
      },
      "source": [
        "**Lib random**\n",
        "\n",
        "Documentação: https://docs.python.org/3/library/random.html"
      ]
    },
    {
      "cell_type": "code",
      "metadata": {
        "id": "59LjcqEE1Qqv",
        "colab": {
          "base_uri": "https://localhost:8080/"
        },
        "outputId": "89e4f6f1-b236-4945-8cb1-d1936293bd9a"
      },
      "source": [
        "#import random as rd\n",
        "\n",
        "a = rd.random() # retorna um valor aleatorio entre 0 e 1\n",
        "# \"eu quero um valor entre 0 e 100 e agora o que eu faço???\"\n",
        "a *= 100 # a = a * 100\n",
        "# \"mas eu nao quero entre 0 e 100 eu quero entre 25 e 120\"\n",
        "b = rd.random() * 95 + 25 # 95 = 120 - 25 e 25 é a base\n",
        "\n",
        "c = rd.randrange(5) # retorna um valor INTEIRO entre 0 e 10\n",
        "\n",
        "print(a)\n",
        "print(b)\n",
        "print(c)\n"
      ],
      "execution_count": 37,
      "outputs": [
        {
          "output_type": "stream",
          "text": [
            "5.469542615268574\n",
            "80.82698971545321\n",
            "2\n"
          ],
          "name": "stdout"
        }
      ]
    },
    {
      "cell_type": "markdown",
      "metadata": {
        "id": "RRNP2XLlCKG7"
      },
      "source": [
        "**Lib Math**\n",
        "\n",
        "Documentação: https://docs.python.org/3/library/math.html"
      ]
    },
    {
      "cell_type": "code",
      "metadata": {
        "id": "8rpxYkSqCMVT",
        "colab": {
          "base_uri": "https://localhost:8080/"
        },
        "outputId": "94177d03-1c77-42cc-d4fb-2cb8758905a4"
      },
      "source": [
        "# min( x ) -> retorna o menor valor de uma lista x\n",
        "# max( x ) -> retorna o maior valor de uma lista x \n",
        "# pow(z,k) -> retorna z elevado a k\n",
        "# math.sqrt( z ) -> retorna a raiz quadrada do numero z\n",
        "# math.pi -> retorna o valor de pi\n",
        "\n",
        "lista_de_numeros = [1, 2, 3, 4, 5, 6, 7, 8, 9, -1]\n",
        "\n",
        "print('minimo: ' + str(min(lista_de_numeros))) # -1\n",
        "print('maximo: ' + str(max(lista_de_numeros))) # 9\n",
        "print('exponencial: ' + str(pow(max(lista_de_numeros), 3))) # 9 ^3\n",
        "print('raiz quadrada: ' + str(math.sqrt(max(lista_de_numeros)))) # 3.0\n",
        "print('pi: ' + str((math.pi))) # 3.14"
      ],
      "execution_count": 14,
      "outputs": [
        {
          "output_type": "stream",
          "text": [
            "minimo: -1\n",
            "maximo: 9\n",
            "exponencial: 729\n",
            "raiz quadrada: 3.0\n",
            "pi: 3.141592653589793\n"
          ],
          "name": "stdout"
        }
      ]
    },
    {
      "cell_type": "markdown",
      "metadata": {
        "id": "u3Um4tQdZQoO"
      },
      "source": [
        "**Matplotlib**\n",
        "\n",
        "Documentação: https://matplotlib.org/"
      ]
    },
    {
      "cell_type": "code",
      "metadata": {
        "id": "ntFSH1LGZdHJ",
        "colab": {
          "base_uri": "https://localhost:8080/",
          "height": 283
        },
        "outputId": "b449ec5b-49a4-4069-9151-4b1f9ee1570a"
      },
      "source": [
        "import matplotlib.pyplot as plt\n",
        "\n",
        "#Coordenadas x,y por exemplo\n",
        "x_list = [3.5, 4, 3, 4.5, 5, 5.5, 7, 6, 6.5, 5, 3.5]\n",
        "y_list = [0, 4.5, 8, 8.5, 12, 8.5, 8, 4.5, 0, 3, 0]\n",
        "\n",
        "#Mostra os pontos:\n",
        "plt.scatter(x_list, y_list)\n",
        "#Plota as linhas\n",
        "plt.plot(x_list, y_list)"
      ],
      "execution_count": 39,
      "outputs": [
        {
          "output_type": "execute_result",
          "data": {
            "text/plain": [
              "[<matplotlib.lines.Line2D at 0x7f5cd92f1668>]"
            ]
          },
          "metadata": {
            "tags": []
          },
          "execution_count": 39
        },
        {
          "output_type": "display_data",
          "data": {
            "image/png": "[encoded data removed]",
            "text/plain": [
              "<Figure size 432x288 with 1 Axes>"
            ]
          },
          "metadata": {
            "tags": [],
            "needs_background": "light"
          }
        }
      ]
    },
    {
      "cell_type": "markdown",
      "metadata": {
        "id": "xO6AIoyLC_Kd"
      },
      "source": [
        "#Desafios\n",
        "\n",
        "1. Crie uma função que imprima todos os numeros impares de 0 a 100\n",
        "\n",
        "2. Crie uma função que recebe uma lista de valores inteiros e calcula a média de valores da lista\n",
        "\n",
        "3. Crie uma lista aleatoria com 20 numeros flutuantes entre 0 e 100\n",
        "\n",
        "\n",
        "4. Crie uma classe que tenha dois pontos(bidimensionais ou +) e que tenha uma função que calcule a distancia entre eles\n",
        "\n",
        "5. Crie uma função que pegue a lista da questão 3 e eleve os valores ao quadrado e se durante a execução um dos valores seja igual ou maior que 6000 pare a execução"
      ]
    },
    {
      "cell_type": "code",
      "metadata": {
        "id": "nqsLqwiJZrMW",
        "colab": {
          "base_uri": "https://localhost:8080/"
        },
        "outputId": "2ec87be1-f2f2-43c6-bed9-56ae82d9c975"
      },
      "source": [
        "def questao_1():\n",
        "  for i in range(0, 100):\n",
        "    if i % 2 == 1:\n",
        "      print(i)\n",
        "\n",
        "def questao_2(lista_inteiros):\n",
        "  media = 0\n",
        "  tamanho_lista = len(lista_inteiros)\n",
        "  for i in range(tamanho_lista):\n",
        "    media += lista_inteiros[i]\n",
        "  return media/tamanho_lista\n",
        "\n",
        "def questao_3():\n",
        "  lista_aleatoria = [0.0]*20\n",
        "  for i in range(0, 20):\n",
        "    lista_aleatoria[i] = rd.random()*100\n",
        "  return lista_aleatoria\n",
        "\n",
        "\n",
        "class questao_4:\n",
        "  def __init__(self, x1, x2, y1, y2):\n",
        "    self.ponto_1 = [x1, x2]\n",
        "    self.ponto_2 = [y1, y2]\n",
        "\n",
        "  def distancia(self):\n",
        "    print( math.sqrt((self.ponto_1[0] - self.ponto_2[0])**2 + \n",
        "                     (self.ponto_1[1] - self.ponto_2[1])**2))\n",
        "\n",
        "def questao_5():\n",
        "  lista_questao_3 = questao_3()\n",
        "  for index, i in enumerate(lista_questao_3):\n",
        "    lista_questao_3[index] = pow(i, 2)\n",
        "    print(\"Indice: \" + str(index))\n",
        "    print(\"Valor Inicial: \" + str(i))\n",
        "    print(\"Valor: \" + str(lista_questao_3[index]) + \"\\n\")\n",
        "    if lista_questao_3[index] >= 6000:\n",
        "      print(\"Valor acima do Permitido!! Abortar!\")\n",
        "      break\n",
        "\n",
        "# questao_1()\n",
        "# questao_2([1, 2, 3])\n",
        "# questao_3()\n",
        "# a = questao_4(0,0,3,4)\n",
        "# a.distancia()\n",
        "# questao_5()"
      ],
      "execution_count": 44,
      "outputs": [
        {
          "output_type": "stream",
          "text": [
            "Indice: 0\n",
            "Valor Inicial: 13.683640913263906\n",
            "Valor: 187.24202864314987\n",
            "\n",
            "Indice: 1\n",
            "Valor Inicial: 51.08026412243976\n",
            "Valor: 2609.1933828182064\n",
            "\n",
            "Indice: 2\n",
            "Valor Inicial: 72.67125948839004\n",
            "Valor: 5281.111955628919\n",
            "\n",
            "Indice: 3\n",
            "Valor Inicial: 74.7682543903869\n",
            "Valor: 5590.29186458561\n",
            "\n",
            "Indice: 4\n",
            "Valor Inicial: 55.4286626980683\n",
            "Valor: 3072.3366484962285\n",
            "\n",
            "Indice: 5\n",
            "Valor Inicial: 27.562230342856033\n",
            "Valor: 759.6765414726538\n",
            "\n",
            "Indice: 6\n",
            "Valor Inicial: 17.014607413571724\n",
            "Valor: 289.49686543796986\n",
            "\n",
            "Indice: 7\n",
            "Valor Inicial: 5.835872741891546\n",
            "Valor: 34.05741065955275\n",
            "\n",
            "Indice: 8\n",
            "Valor Inicial: 12.174682220921163\n",
            "Valor: 148.22288718041386\n",
            "\n",
            "Indice: 9\n",
            "Valor Inicial: 65.07650686885198\n",
            "Valor: 4234.951746251739\n",
            "\n",
            "Indice: 10\n",
            "Valor Inicial: 31.19004342655097\n",
            "Valor: 972.8188089501355\n",
            "\n",
            "Indice: 11\n",
            "Valor Inicial: 76.87887009688782\n",
            "Valor: 5910.360667374152\n",
            "\n",
            "Indice: 12\n",
            "Valor Inicial: 45.58754269478855\n",
            "Valor: 2078.224048949169\n",
            "\n",
            "Indice: 13\n",
            "Valor Inicial: 45.34536295283428\n",
            "Valor: 2056.2019413242756\n",
            "\n",
            "Indice: 14\n",
            "Valor Inicial: 15.696440457680216\n",
            "Valor: 246.37824304150033\n",
            "\n",
            "Indice: 15\n",
            "Valor Inicial: 84.7676863411726\n",
            "Valor: 7185.5606476354205\n",
            "\n",
            "Valor acima do Permitido!! Abortar!\n"
          ],
          "name": "stdout"
        }
      ]
    },
    {
      "cell_type": "code",
      "metadata": {
        "id": "2-WEZ8917YnO"
      },
      "source": [
        ""
      ],
      "execution_count": null,
      "outputs": []
    }
  ]
}