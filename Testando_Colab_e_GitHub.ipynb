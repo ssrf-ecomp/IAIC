{
  "nbformat": 4,
  "nbformat_minor": 0,
  "metadata": {
    "kernelspec": {
      "display_name": "Python 3",
      "language": "python",
      "name": "python3"
    },
    "language_info": {
      "codemirror_mode": {
        "name": "ipython",
        "version": 3
      },
      "file_extension": ".py",
      "mimetype": "text/x-python",
      "name": "python",
      "nbconvert_exporter": "python",
      "pygments_lexer": "ipython3",
      "version": "3.7.6"
    },
    "colab": {
      "name": "Testando Colab e GitHub.ipynb",
      "provenance": [],
      "include_colab_link": true
    }
  },
  "cells": [
    {
      "cell_type": "markdown",
      "metadata": {
        "id": "view-in-github",
        "colab_type": "text"
      },
      "source": [
        "<a href=\"https://colab.research.google.com/github/ssrf-ecomp/IAIC/blob/master/Testando_Colab_e_GitHub.ipynb\" target=\"_parent\"><img src=\"https://colab.research.google.com/assets/colab-badge.svg\" alt=\"Open In Colab\"/></a>"
      ]
    },
    {
      "cell_type": "markdown",
      "metadata": {
        "id": "sxiWZOUrqUjD"
      },
      "source": [
        "# Um um um um um\n",
        "## Dois Dois Dois\n",
        "### Três\n",
        "#### Quatro\n",
        "##### Cinco\n",
        "###### Seis\n",
        "\n",
        "**Recomendo em negrito** a **utilização em negrito e _itálico negrito_** do Google Colaboratory, plataforma de python notebooks online da Google, que não requer instalação, apenas conexão com internet, uma conta Google e um navegador.\n",
        "\n",
        "_Vocês também_ podem instalar o Python no ambiente de vocês, mas esta parte não será coberta nesta aula.\n"
      ]
    },
    {
      "cell_type": "markdown",
      "metadata": {
        "id": "DXLUhVvFqUjJ"
      },
      "source": [
        "# aaaaaaaaaaaaaaaaaaa\n",
        "In the words of Abraham Lincoln:\n",
        "\n",
        "> Pardon my French"
      ]
    },
    {
      "cell_type": "code",
      "metadata": {
        "colab": {
          "base_uri": "https://localhost:8080/"
        },
        "id": "I85W0ynHqUjJ",
        "outputId": "d90aadf4-beff-441e-f62d-f95fe90842f4"
      },
      "source": [
        "import random as rd\n",
        "import math\n",
        "print (\"AAAAAAAAAAAAAAAAssssssssssssssssssAAAAAAAAAAAAAAAAAAAAAAA\")"
      ],
      "execution_count": null,
      "outputs": [
        {
          "output_type": "stream",
          "text": [
            "AAAAAAAAAAAAAAAAssssssssssssssssssAAAAAAAAAAAAAAAAAAAAAAA\n"
          ],
          "name": "stdout"
        }
      ]
    },
    {
      "cell_type": "markdown",
      "metadata": {
        "id": "K6krbilCqUjK"
      },
      "source": [
        "Definições de Variaveis\n",
        "\n",
        "Python é uma linguagem de tipagem forte e dinâmica. O que quer dizer que ao definir um valor para uma variável, a linguagem infere um tipo.\n",
        "\n",
        "Você pode alterar o tipo de uma variável durante a execução do código e o Python não lançará nenhuma Exception.\n",
        "\n",
        "Linguagens de tipagem fraca: permitem que você faça algumas operações, sem a necessidade da realização do cast"
      ]
    },
    {
      "cell_type": "code",
      "metadata": {
        "colab": {
          "base_uri": "https://localhost:8080/"
        },
        "id": "tJCh2AmHqUjL",
        "outputId": "0a9fc82a-b6f3-4e08-cec8-ba05ed3d0d2f"
      },
      "source": [
        "nome = 'Hugo' #Uma string\n",
        "idade = 10  #Um int\n",
        "gold = 23.1 #Um float\n",
        "\n",
        "# print(str(type(nome)))\n",
        "print(type(nome))\n",
        "print(str(type(idade)))\n",
        "print(str(type(gold)))\n",
        "\n",
        "#Troca valor de nome para um inteiro, e a linguagem infere esse tipo.\n",
        "nome = 12\n",
        "\n",
        "print(str(type(nome)))\n",
        "\n",
        "# No Python o usuario não precisa dizer o tipo de variavel, a ferramenta ja faz \n",
        "# essa inferencia ela mesma. Isso deixa o codigo mais limpo, no entanto aumenta \n",
        "# a possibilidade de erros humanos, sempre tome cuidado para nao tratar uma \n",
        "# string como um numero ou algo semelhante"
      ],
      "execution_count": null,
      "outputs": [
        {
          "output_type": "stream",
          "text": [
            "<class 'str'>\n",
            "<class 'int'>\n",
            "<class 'float'>\n",
            "<class 'int'>\n"
          ],
          "name": "stdout"
        }
      ]
    },
    {
      "cell_type": "code",
      "metadata": {
        "colab": {
          "base_uri": "https://localhost:8080/"
        },
        "id": "ICzJymYrqUjL",
        "outputId": "574c68c2-ebd7-4fe9-d8c6-29d24a3b76fa"
      },
      "source": [
        "nome = '113'\n",
        "# print(1 + nome) #Erro\n",
        "# print(1 + int(nome)) #Uso do Cast\n",
        "print(str(1) + nome) #Concatenação"
      ],
      "execution_count": null,
      "outputs": [
        {
          "output_type": "stream",
          "text": [
            "1113\n"
          ],
          "name": "stdout"
        }
      ]
    },
    {
      "cell_type": "code",
      "metadata": {
        "colab": {
          "base_uri": "https://localhost:8080/",
          "height": 282
        },
        "id": "jbIUrCBeqUjM",
        "outputId": "8bbe6b4a-3d24-418a-b4b4-b2887b4a0b00"
      },
      "source": [
        "import matplotlib.pyplot as plt\n",
        "\n",
        "#Coordenadas x,y por exemplo\n",
        "x_list = [3.5, 4, 3, 4.5, 5, 5.5, 7, 6, 6.5, 5, 3.5]\n",
        "y_list = [0, 4.5, 8, 8.5, 12, 8.5, 8, 4.5, 0, 3, 0]\n",
        "\n",
        "#Mostra os pontos:\n",
        "plt.scatter(x_list, y_list)\n",
        "#Plota as linhas\n",
        "plt.plot(x_list, y_list)"
      ],
      "execution_count": null,
      "outputs": [
        {
          "output_type": "execute_result",
          "data": {
            "text/plain": [
              "[<matplotlib.lines.Line2D at 0x7fd845b31810>]"
            ]
          },
          "metadata": {
            "tags": []
          },
          "execution_count": 9
        },
        {
          "output_type": "display_data",
          "data": {
            "image/png": "[encoded data removed]",
            "text/plain": [
              "<Figure size 432x288 with 1 Axes>"
            ]
          },
          "metadata": {
            "tags": [],
            "needs_background": "light"
          }
        }
      ]
    },
    {
      "cell_type": "code",
      "metadata": {
        "id": "YQLp8_gSqUjM"
      },
      "source": [
        ""
      ],
      "execution_count": null,
      "outputs": []
    },
    {
      "cell_type": "code",
      "metadata": {
        "id": "8nUzoJCEqUjN"
      },
      "source": [
        ""
      ],
      "execution_count": null,
      "outputs": []
    }
  ]
}